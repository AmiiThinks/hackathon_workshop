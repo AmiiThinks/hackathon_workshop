{
 "cells": [
  {
   "cell_type": "markdown",
   "metadata": {},
   "source": [
    "# Linear Regression\n",
    "\n",
    "- Dataset consists of 2 types of variables\n",
    "    - Independent variables / features / decsriptors / input (random) variables / covariates / regressor\n",
    "    - Dependent variables / output / class / target\n",
    "    \n",
    "Regression is a method of modelling a target value based on independent variables. \n",
    "\n",
    "Linear regression is a method to find the line of best fit given a dataset so that we can predict one variable given the other\n",
    "\n",
    "$\n",
    "\\begin{align}\n",
    "y = mx + c\n",
    "\\end{align}\n",
    "$\n",
    "\n",
    "where m is the slope, c is the y intercept"
   ]
  },
  {
   "cell_type": "code",
   "execution_count": 2,
   "metadata": {},
   "outputs": [],
   "source": [
    "import pandas as pd\n",
    "import numpy as np\n",
    "from matplotlib import pyplot as plt"
   ]
  },
  {
   "cell_type": "markdown",
   "metadata": {},
   "source": [
    "### Read the data from input file\n",
    "\n",
    "Generally the data is provided in the tabular format in the form of .csv, .xls or via a database. \n",
    "Pandas is predominantly used for data wrangling and analysis for a dataset in a tabular format "
   ]
  },
  {
   "cell_type": "markdown",
   "metadata": {},
   "source": [
    "<img src='img/csv_to_df.png'>"
   ]
  },
  {
   "cell_type": "code",
   "execution_count": 3,
   "metadata": {},
   "outputs": [],
   "source": [
    "# Read the data\n",
    "df_data = pd.read_csv('../data/2d_classification.csv')"
   ]
  },
  {
   "cell_type": "code",
   "execution_count": 4,
   "metadata": {
    "scrolled": true
   },
   "outputs": [
    {
     "data": {
      "image/png": "[encoded data removed]",
      "text/plain": [
       "<Figure size 720x504 with 1 Axes>"
      ]
     },
     "metadata": {},
     "output_type": "display_data"
    }
   ],
   "source": [
    "plt.rcParams['figure.figsize'] = [10, 7] # Size of the plots\n",
    "\n",
    "colors = {0:'b', 1:'g', 2:'r', 3:'c', 4:'m', 5:'y', 6:'k'}\n",
    "fig, ax = plt.subplots()\n",
    "grouped = df_data.groupby('label')\n",
    "for key, group in grouped:\n",
    "    group.plot(ax=ax, kind='scatter', x='x', y='y', label=key, color=colors[key])\n",
    "plt.show()"
   ]
  },
  {
   "cell_type": "code",
   "execution_count": 5,
   "metadata": {},
   "outputs": [],
   "source": [
    "from sklearn.linear_model import LinearRegression\n",
    "\n",
    "x = df_data[['x']].values\n",
    "y = df_data[['y']].values\n",
    "\n",
    "lin_regr = LinearRegression()\n",
    "lin_regr.fit(x, y)\n",
    "\n",
    "pred_y = lin_regr.predict(x)"
   ]
  },
  {
   "cell_type": "code",
   "execution_count": 6,
   "metadata": {},
   "outputs": [
    {
     "data": {
      "image/png": "[encoded data removed]",
      "text/plain": [
       "<Figure size 720x504 with 1 Axes>"
      ]
     },
     "metadata": {},
     "output_type": "display_data"
    }
   ],
   "source": [
    "colors = {0:'b', 1:'g', 2:'r', 3:'c', 4:'m', 5:'y', 6:'k'}\n",
    "\n",
    "plt.figure()\n",
    "plt.scatter(x, y,  color='black')\n",
    "plt.plot(x, pred_y, color='blue', linewidth=1)\n",
    "plt.show()"
   ]
  },
  {
   "cell_type": "markdown",
   "metadata": {},
   "source": [
    "## Components to run an algorithm on sklearn\n",
    "\n",
    "### Instance of the algorithm that is to be used\n",
    "- Create an instance of the algorithm that could be invoked to use the implemented functions\n",
    "\n",
    "<font color='blue'> __lin_regr = LinearRegression()__ </font>\n",
    "\n",
    "### Fit function\n",
    "\n",
    "- What does it do ?\n",
    "    - It trains on the dataset\n",
    "- What does it identify ?\n",
    "    - Coefficients / Weights / Intercepts\n",
    "- When will it be used ?\n",
    "    - Use the co-efficients to predict for the new data\n",
    "<br>\n",
    "<font color='blue'> __lin_regr.fit(x, y)__ </font><n>\n",
    "\n",
    "\n",
    "### Prediction\n",
    "- For any new set of data, you can predict using <br>\n",
    "<font color='blue'> __pred_y = lin_regr.predict(x)__ </font>"
   ]
  },
  {
   "cell_type": "markdown",
   "metadata": {},
   "source": [
    "#### Coeficients"
   ]
  },
  {
   "cell_type": "code",
   "execution_count": null,
   "metadata": {},
   "outputs": [],
   "source": [
    "print('Coefficients:', lin_regr.coef_)"
   ]
  },
  {
   "cell_type": "markdown",
   "metadata": {},
   "source": [
    "#### Intercepts"
   ]
  },
  {
   "cell_type": "code",
   "execution_count": 13,
   "metadata": {},
   "outputs": [
    {
     "name": "stdout",
     "output_type": "stream",
     "text": [
      "Intercepts: [7.86368678]\n"
     ]
    }
   ],
   "source": [
    "print('Intercepts:', lin_regr.intercept_)"
   ]
  },
  {
   "cell_type": "markdown",
   "metadata": {},
   "source": [
    "#### Mean Suqared Error"
   ]
  },
  {
   "cell_type": "code",
   "execution_count": 11,
   "metadata": {},
   "outputs": [
    {
     "name": "stdout",
     "output_type": "stream",
     "text": [
      "Mean squared error: 0.95\n"
     ]
    }
   ],
   "source": [
    "from sklearn.metrics import mean_squared_error\n",
    "print(\"Mean squared error: %.2f\" % mean_squared_error(y, pred_y))"
   ]
  },
  {
   "cell_type": "markdown",
   "metadata": {},
   "source": [
    "#### Variance"
   ]
  },
  {
   "cell_type": "code",
   "execution_count": 12,
   "metadata": {},
   "outputs": [
    {
     "name": "stdout",
     "output_type": "stream",
     "text": [
      "Variance score: 0.22\n"
     ]
    }
   ],
   "source": [
    "from sklearn.metrics import r2_score\n",
    "print('Variance score: %.2f' % r2_score(y, pred_y))"
   ]
  },
  {
   "cell_type": "markdown",
   "metadata": {},
   "source": [
    "### Another example"
   ]
  },
  {
   "cell_type": "code",
   "execution_count": 35,
   "metadata": {},
   "outputs": [
    {
     "name": "stdout",
     "output_type": "stream",
     "text": [
      "<class 'numpy.ndarray'>\n",
      "(100, 1)\n"
     ]
    },
    {
     "data": {
      "image/png": "[encoded data removed]",
      "text/plain": [
       "<Figure size 720x504 with 1 Axes>"
      ]
     },
     "metadata": {},
     "output_type": "display_data"
    }
   ],
   "source": [
    "from sklearn.datasets.samples_generator import make_blobs\n",
    "import pandas as pd\n",
    "from matplotlib import pyplot as plt\n",
    "from sklearn.linear_model import LinearRegression\n",
    "\n",
    "# Creating data\n",
    "data, label = make_blobs(n_samples=100, centers=1, n_features=2)\n",
    "df_data = pd.DataFrame(dict(x=data[:,0], y=data[:,1], label=label)) # converting it into dataframe to make it easier\n",
    "\n",
    "# Making them easy to read\n",
    "x = df_data[['x']].values\n",
    "y = df_data[['y']].values\n",
    "\n",
    "print(type(x))\n",
    "print(x.shape)\n",
    "# Prediction\n",
    "lin_regr = LinearRegression()\n",
    "lin_regr.fit(x, y)\n",
    "pred_y = lin_regr.predict(x)\n",
    "\n",
    "# Plotting the results\n",
    "plt.figure()\n",
    "plt.scatter(x, y,  color='black')\n",
    "plt.plot(x, pred_y, color='blue', linewidth=1)\n",
    "plt.show()"
   ]
  },
  {
   "cell_type": "markdown",
   "metadata": {},
   "source": [
    "### Another example"
   ]
  },
  {
   "cell_type": "code",
   "execution_count": 73,
   "metadata": {},
   "outputs": [
    {
     "data": {
      "image/png": "[encoded data removed]",
      "text/plain": [
       "<Figure size 720x504 with 1 Axes>"
      ]
     },
     "metadata": {},
     "output_type": "display_data"
    }
   ],
   "source": [
    "from matplotlib import pyplot as plt\n",
    "\n",
    "\n",
    "data = np.array([[1,0], [2,0], [3,0], [4,0], [5,0], [6,1], [7,1], [8,1], [9,1], [10, 1]])\n",
    "\n",
    "x = np.reshape(data[:, 0], (data.shape[0], 1))\n",
    "y =  np.reshape(data[:, 1], (data.shape[0], 1))\n",
    "\n",
    "# Prediction\n",
    "lin_regr = LinearRegression()\n",
    "lin_regr.fit(x, y)\n",
    "pred_y = lin_regr.predict(x)\n",
    "\n",
    "# Plotting the results\n",
    "plt.figure()\n",
    "plt.scatter(x, y,  color='black')\n",
    "plt.plot(x, pred_y, color='blue', linewidth=1)\n",
    "plt.axhline(y=0.5, xmin=0, xmax=1, color='m')\n",
    "plt.axvline(x=5.5, ymin=0, ymax=1, color='g', dashes=[3,3])\n",
    "plt.show()"
   ]
  },
  {
   "cell_type": "code",
   "execution_count": 74,
   "metadata": {},
   "outputs": [
    {
     "data": {
      "image/png": "[encoded data removed]",
      "text/plain": [
       "<Figure size 720x504 with 1 Axes>"
      ]
     },
     "metadata": {},
     "output_type": "display_data"
    }
   ],
   "source": [
    "from matplotlib import pyplot as plt\n",
    "\n",
    "\n",
    "data = np.array([[1,0], [2,0], [3,0], [4,0], [5,0], [6,1], [7,1], [8,1], [9,1], [10, 1], [14, 1], [16,1], [17, 1]])\n",
    "\n",
    "x = np.reshape(data[:, 0], (data.shape[0], 1))\n",
    "y =  np.reshape(data[:, 1], (data.shape[0], 1))\n",
    "\n",
    "# Prediction\n",
    "lin_regr = LinearRegression()\n",
    "lin_regr.fit(x, y)\n",
    "pred_y = lin_regr.predict(x)\n",
    "\n",
    "# Plotting the results\n",
    "plt.figure()\n",
    "plt.scatter(x, y,  color='black')\n",
    "plt.plot(x, pred_y, color='blue', linewidth=1)\n",
    "plt.axhline(y=0.5, xmin=0, xmax=1, color='m')\n",
    "plt.axvline(x=6.25, ymin=0, ymax=1, color='g', dashes=[3,3])\n",
    "plt.show()"
   ]
  },
  {
   "cell_type": "markdown",
   "metadata": {},
   "source": []
  }
 ],
 "metadata": {
  "kernelspec": {
   "display_name": "classification",
   "language": "python",
   "name": "classification"
  },
  "language_info": {
   "codemirror_mode": {
    "name": "ipython",
    "version": 3
   },
   "file_extension": ".py",
   "mimetype": "text/x-python",
   "name": "python",
   "nbconvert_exporter": "python",
   "pygments_lexer": "ipython3",
   "version": "3.6.5"
  }
 },
 "nbformat": 4,
 "nbformat_minor": 2
}
