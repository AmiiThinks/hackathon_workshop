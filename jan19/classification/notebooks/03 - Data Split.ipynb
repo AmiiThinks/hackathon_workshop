{
 "cells": [
  {
   "cell_type": "markdown",
   "metadata": {},
   "source": [
    "## Data Splits\n"
   ]
  },
  {
   "cell_type": "code",
   "execution_count": 4,
   "metadata": {},
   "outputs": [],
   "source": [
    "import pandas as pd\n",
    "import numpy as np\n",
    "from matplotlib import pyplot as plt\n",
    "import math"
   ]
  },
  {
   "cell_type": "markdown",
   "metadata": {},
   "source": [
    "### Read the data"
   ]
  },
  {
   "cell_type": "code",
   "execution_count": 5,
   "metadata": {},
   "outputs": [],
   "source": [
    "# Read the data\n",
    "df_data = pd.read_csv('../data/2d_classification.csv')"
   ]
  },
  {
   "cell_type": "markdown",
   "metadata": {},
   "source": [
    "### Plot the data"
   ]
  },
  {
   "cell_type": "code",
   "execution_count": 7,
   "metadata": {},
   "outputs": [
    {
     "data": {
      "image/png": "[encoded data removed]",
      "text/plain": [
       "<Figure size 432x288 with 1 Axes>"
      ]
     },
     "metadata": {},
     "output_type": "display_data"
    }
   ],
   "source": [
    "colors = {0:'b', 1:'g', 2:'r', 3:'c', 4:'m', 5:'y', 6:'k'}\n",
    "\n",
    "plt.figure()\n",
    "unq_labels = np.unique(df_data['label'])\n",
    "for i in unq_labels:\n",
    "    df = df_data.loc[df_data['label'] == i][['x','y']]\n",
    "    x = df['x']\n",
    "    y = df['y']\n",
    "    plt.scatter(x, y, c=colors[i], alpha=1)"
   ]
  },
  {
   "cell_type": "code",
   "execution_count": 8,
   "metadata": {},
   "outputs": [],
   "source": [
    "data = df_data[['x','y']].values\n",
    "label = df_data['label'].values"
   ]
  },
  {
   "attachments": {},
   "cell_type": "markdown",
   "metadata": {},
   "source": [
    "<img src='img/original_to_class.png'>"
   ]
  },
  {
   "cell_type": "markdown",
   "metadata": {},
   "source": [
    "## Dividing the data into Train and Test data\n",
    "\n",
    "- Using the complete dataset for training, we are not generalizing the model for unseen data\n",
    "- A small set of data should be a holdout dataset on which a model can be tested\n",
    "- The __holdout set__ will say how good your model is w.r.t. unknown data - __Test Data__"
   ]
  },
  {
   "cell_type": "markdown",
   "metadata": {},
   "source": [
    "<img src='img/train_test_split.png'>"
   ]
  },
  {
   "cell_type": "markdown",
   "metadata": {},
   "source": [
    "- sklearn has an inbuilt method - __[train_test_split()](https://scikit-learn.org/stable/modules/generated/sklearn.model_selection.train_test_split.html)__\n",
    "- parameters \n",
    "    - data -> data to be split\n",
    "    - test_size -> between 0 & 1, denoting the ratio to be allocated for test data\n",
    "    - shuffle -> randomly shuffle before splitting the data\n",
    "    - stratify -> Try to maintain the class balance in both training and test data sets"
   ]
  },
  {
   "cell_type": "markdown",
   "metadata": {},
   "source": [
    "#### Things to consider\n",
    "- Do not use the test data in any form\n",
    "- Do not use it for hyper-parameter tuning"
   ]
  },
  {
   "cell_type": "markdown",
   "metadata": {},
   "source": [
    "## Train-Test Splits "
   ]
  },
  {
   "cell_type": "code",
   "execution_count": 10,
   "metadata": {},
   "outputs": [],
   "source": [
    "from sklearn.model_selection import train_test_split\n",
    "data_train, data_test, label_train, label_test = train_test_split(data, label, test_size=0.20, \n",
    "                                                                  random_state=0, stratify=None)"
   ]
  },
  {
   "cell_type": "markdown",
   "metadata": {},
   "source": [
    "__Train-test ratio of the split data__"
   ]
  },
  {
   "cell_type": "code",
   "execution_count": 13,
   "metadata": {},
   "outputs": [
    {
     "name": "stdout",
     "output_type": "stream",
     "text": [
      "Complete data: (100, 2)\n",
      "Labels distribution Counter({1: 50, 0: 50})\n",
      "Train Data: (80, 2) Test Data: (20, 2)\n"
     ]
    }
   ],
   "source": [
    "print('Complete data:', data.shape)\n",
    "print('Labels distribution', Counter(label))\n",
    "print('Train Data:', data_train.shape, 'Test Data:', data_test.shape)"
   ]
  },
  {
   "cell_type": "markdown",
   "metadata": {},
   "source": [
    "__How the data is split__"
   ]
  },
  {
   "cell_type": "code",
   "execution_count": 14,
   "metadata": {},
   "outputs": [
    {
     "name": "stdout",
     "output_type": "stream",
     "text": [
      "Training Data split Counter({0: 42, 1: 38})\n",
      "Testing Data split Counter({1: 12, 0: 8})\n"
     ]
    }
   ],
   "source": [
    "from collections import Counter\n",
    "print('Training Data split', Counter(label_train))\n",
    "print('Testing Data split', Counter(label_test))"
   ]
  },
  {
   "cell_type": "markdown",
   "metadata": {},
   "source": [
    "### Stratified split\n",
    "- Used to make sure that the class imbalance doesn't affect the distribution of class labels in the train-test data set"
   ]
  },
  {
   "cell_type": "markdown",
   "metadata": {},
   "source": [
    "<img src='img/stratified_split.png'>"
   ]
  },
  {
   "cell_type": "code",
   "execution_count": 15,
   "metadata": {},
   "outputs": [
    {
     "name": "stdout",
     "output_type": "stream",
     "text": [
      "Complete data: (100, 2)\n",
      "Labels distribution Counter({1: 50, 0: 50})\n",
      "Train Data: (80, 2) Test Data: (20, 2)\n",
      "Training Data split Counter({1: 40, 0: 40})\n",
      "Testing Data split Counter({1: 10, 0: 10})\n"
     ]
    }
   ],
   "source": [
    "from sklearn.model_selection import train_test_split\n",
    "data_train, data_test, label_train, label_test = train_test_split(data, label, test_size=0.20, \n",
    "                                                                  random_state=0, stratify=label)\n",
    "\n",
    "print('Complete data:', data.shape)\n",
    "print('Labels distribution', Counter(label))\n",
    "print('Train Data:', data_train.shape, 'Test Data:', data_test.shape)\n",
    "\n",
    "from collections import Counter\n",
    "print('Training Data split', Counter(label_train))\n",
    "print('Testing Data split', Counter(label_test))"
   ]
  },
  {
   "cell_type": "markdown",
   "metadata": {},
   "source": [
    "## Random Sampling\n",
    "- Sample a data multiple time with a certain ratio (example: 80% of the data is randomly sampled)\n",
    "- Iterate the process again for n-iterations with replacement\n",
    "- Since it is random sampling, doesn't not guarantee that each data point was tested"
   ]
  },
  {
   "cell_type": "markdown",
   "metadata": {},
   "source": [
    "## Cross-Validation"
   ]
  },
  {
   "cell_type": "markdown",
   "metadata": {},
   "source": [
    "### k-fold cross validation\n",
    "- Divide the dataset into ___k___ subsets\n",
    "- Select a subset, use that as the test data and the remaining as the train data\n",
    "- Repeat this for k iterations, so that all the subsets are used as test data"
   ]
  },
  {
   "cell_type": "markdown",
   "metadata": {},
   "source": [
    "<img src='img/train_to_subsets.png'>"
   ]
  },
  {
   "cell_type": "markdown",
   "metadata": {},
   "source": [
    "<img src='img/k_fold_cv.png'>"
   ]
  },
  {
   "cell_type": "markdown",
   "metadata": {},
   "source": [
    "### Leave-one-out CV\n",
    "\n",
    "- Set the number of folds to the number of training instances\n",
    "- Each iteration, train on the complete dataset except one\n",
    "- No random subsampling\n",
    "- Computationally expensive - n-iterations\n"
   ]
  },
  {
   "cell_type": "code",
   "execution_count": null,
   "metadata": {},
   "outputs": [],
   "source": []
  }
 ],
 "metadata": {
  "kernelspec": {
   "display_name": "classification",
   "language": "python",
   "name": "classification"
  },
  "language_info": {
   "codemirror_mode": {
    "name": "ipython",
    "version": 3
   },
   "file_extension": ".py",
   "mimetype": "text/x-python",
   "name": "python",
   "nbconvert_exporter": "python",
   "pygments_lexer": "ipython3",
   "version": "3.6.5"
  }
 },
 "nbformat": 4,
 "nbformat_minor": 2
}
